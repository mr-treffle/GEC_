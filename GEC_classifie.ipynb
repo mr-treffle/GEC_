{
 "cells": [
  {
   "cell_type": "markdown",
   "metadata": {},
   "source": [
    "imports"
   ]
  },
  {
   "cell_type": "code",
   "execution_count": 1,
   "metadata": {},
   "outputs": [],
   "source": [
    "from __future__ import print_function, division\n",
    "from builtins import range\n",
    "\n",
    "import os\n",
    "import sys,re\n",
    "import numpy as np\n",
    "import matplotlib.pyplot as plt\n",
    "from tensorflow.keras.preprocessing.sequence import pad_sequences\n",
    "from tensorflow.keras.preprocessing.text import Tokenizer\n",
    "from tensorflow.keras import Input, Model\n",
    "from tensorflow.keras.layers import Dense, GlobalMaxPool1D, Bidirectional, Conv1D\n",
    "from tensorflow.keras.layers import LSTM, MaxPooling1D, Embedding, Dropout, GlobalMaxPooling1D\n",
    "from tensorflow.keras.optimizers import Adam\n",
    "import tensorflow.keras.backend as K\n",
    "from sklearn.metrics import roc_auc_score"
   ]
  },
  {
   "cell_type": "markdown",
   "metadata": {},
   "source": [
    "some configuration"
   ]
  },
  {
   "cell_type": "code",
   "execution_count": 27,
   "metadata": {},
   "outputs": [],
   "source": [
    "MAX_SEQUENCE_LENGTH = 200\n",
    "MAX_VOCAB_SIZE = 30000\n",
    "EMBEDDING_DIM = 100\n",
    "VALIDATION_SPLIT = 0.2\n",
    "BATCH_SIZE = 64\n",
    "EPOCHS = 6"
   ]
  },
  {
   "cell_type": "markdown",
   "metadata": {},
   "source": [
    "load in pre-trained word vectors"
   ]
  },
  {
   "cell_type": "code",
   "execution_count": 3,
   "metadata": {},
   "outputs": [],
   "source": [
    "word2vec = {}\n",
    "with open(os.path.join('/home/hassan/Documents/machine_learning_examples/nlp_class3/glove.6B.%sd.txt' % EMBEDDING_DIM)) as f:\n",
    "  # is just a space-separated text file in the format:\n",
    "  # word vec[0] vec[1] vec[2] ...\n",
    "  for line in f:\n",
    "    values = line.split()\n",
    "    word = values[0]\n",
    "    vec = np.asarray(values[1:], dtype='float32')\n",
    "    word2vec[word] = vec\n"
   ]
  },
  {
   "cell_type": "code",
   "execution_count": 4,
   "metadata": {},
   "outputs": [
    {
     "name": "stdout",
     "output_type": "stream",
     "text": [
      "Found 400000 word vectors.\n"
     ]
    }
   ],
   "source": [
    "print('Found %s word vectors.' % len(word2vec))"
   ]
  },
  {
   "cell_type": "markdown",
   "metadata": {},
   "source": [
    "prepare text samples and their labels"
   ]
  },
  {
   "cell_type": "code",
   "execution_count": 4,
   "metadata": {},
   "outputs": [],
   "source": [
    "sentences = np.empty(0,dtype='object')\n",
    "targets = np.zeros((0,28))\n",
    "labels = {\"Vt\":0,\"Vm\":1,\"V0\":2,\"Vform\":3,\"SVA\":4,\"ArtOrDet\":5,\"Nn\":6,\"Npos\":7,\"Pform\":8,\"Pref\":9,\"Prep\":10,\"Wci\":11,\"Wa\":12,\"Wform\":13,\"Wtone\":14,\"Srun\":15,\"Smod\":16,\"Spar\":17,\"Sfrag\":18,\"Ssub\":19,\"WOinc\":20,\"WOadv\":21,\"Trans\":22,\"Mec\":23,\"Rloc\":24,\"Cit\":25,\"Others\":26,\"Um\":27}\n",
    "i=0\n",
    "f=open('/home/hassan/Documents/machine_learning_examples/nlp_class3/toxic/conll14st-preprocessed.m2')\n",
    "line = f.readline()\n",
    "while line:\n",
    "    line = line.strip()\n",
    "    if line:\n",
    "        # print(line)\n",
    "        if re.search(\"^S\",line):\n",
    "            a=np.empty(1,dtype='object')\n",
    "            a[0]=line[2:]\n",
    "            sentences=np.concatenate([sentences,a])\n",
    "            b=np.zeros((1,28))\n",
    "            targets=np.concatenate([targets,b])\n",
    "            i=i+1\n",
    "        elif re.search(\"^A\",line):\n",
    "            # print(\"found annotation\")\n",
    "            for key in labels:\n",
    "                # print(labels.get(key))\n",
    "                if re.search(key,line):\n",
    "                    # print(labels.get(key))\n",
    "                    targets[i-1,labels.get(key)]=1\n",
    "                    break\n",
    "    line=f.readline()\n",
    "\n"
   ]
  },
  {
   "cell_type": "code",
   "execution_count": 5,
   "metadata": {},
   "outputs": [],
   "source": [
    "f=open('/home/hassan/Downloads/untitled folder/conll14st-test-data/alt/official-2014.combined-withalt.m2')\n",
    "line = f.readline()\n",
    "while line:\n",
    "    line = line.strip()\n",
    "    if line:\n",
    "        # print(line)\n",
    "        if re.search(\"^S\",line):\n",
    "            a=np.empty(1,dtype='object')\n",
    "            a[0]=line[2:]\n",
    "            sentences=np.concatenate([sentences,a])\n",
    "            b=np.zeros((1,28))\n",
    "            targets=np.concatenate([targets,b])\n",
    "            i=i+1\n",
    "        elif re.search(\"^A\",line):\n",
    "            # print(\"found annotation\")\n",
    "            for key in labels:\n",
    "                # print(labels.get(key))\n",
    "                if re.search(key,line):\n",
    "                    # print(labels.get(key))\n",
    "                    targets[i-1,labels.get(key)]=1\n",
    "                    break\n",
    "    line=f.readline()\n",
    "\n"
   ]
  },
  {
   "cell_type": "code",
   "execution_count": 28,
   "metadata": {},
   "outputs": [
    {
     "name": "stdout",
     "output_type": "stream",
     "text": [
      "[0. 0. 0. 1. 1. 0. 1. 0. 0. 0. 0. 0. 0. 0. 0. 0. 0. 0. 0. 0. 0. 0. 0. 0.\n",
      " 0. 0. 0. 0.]\n",
      "[0. 0. 0. 0. 1. 1. 1. 0. 0. 1. 1. 0. 0. 1. 0. 0. 0. 0. 0. 0. 0. 0. 0. 0.\n",
      " 0. 0. 0. 0.]\n",
      "found line 58463\n"
     ]
    }
   ],
   "source": [
    "print(targets[3])\n",
    "print(targets[58462])\n",
    "print(\"found line\", i)"
   ]
  },
  {
   "cell_type": "markdown",
   "metadata": {},
   "source": [
    "convert the sentences (strings) into integers"
   ]
  },
  {
   "cell_type": "code",
   "execution_count": 29,
   "metadata": {},
   "outputs": [
    {
     "name": "stdout",
     "output_type": "stream",
     "text": [
      "Tokenization...\n"
     ]
    }
   ],
   "source": [
    "print('Tokenization...')\n",
    "tokenizer = Tokenizer( num_words=MAX_VOCAB_SIZE, filters='\\t\\n')\n",
    "tokenizer.fit_on_texts(sentences)\n",
    "sequences = tokenizer.texts_to_sequences(sentences)\n",
    "\n",
    "word2idx = tokenizer.word_index"
   ]
  },
  {
   "cell_type": "code",
   "execution_count": 32,
   "metadata": {},
   "outputs": [
    {
     "name": "stdout",
     "output_type": "stream",
     "text": [
      "sequence[0]:  [1080, 9, 7501, 242]\n",
      "max sequence length: 227\n",
      "min sequence length: 1\n",
      "Found 29750 unique tokens.\n"
     ]
    }
   ],
   "source": [
    "print(\"sequence[0]: \", sequences[0])\n",
    "\n",
    "print(\"max sequence length:\", max(len(s) for s in sequences))\n",
    "print(\"min sequence length:\", min(len(s) for s in sequences))\n",
    "# s = sorted(len(s) for s in sequences)\n",
    "# print(\"median sequence length:\", s[len(s) // 2])\n",
    "#\n",
    "# print(\"max word index:\", max(max(seq) for seq in sequences if len(seq) > 0))\n",
    "\n",
    "print('Found %s unique tokens.' % len(word2idx))\n",
    "# print(next(iter(word2idx)))"
   ]
  },
  {
   "cell_type": "markdown",
   "metadata": {},
   "source": [
    "pad sequences so that we get a N x T matrix"
   ]
  },
  {
   "cell_type": "code",
   "execution_count": 33,
   "metadata": {},
   "outputs": [
    {
     "name": "stdout",
     "output_type": "stream",
     "text": [
      "Pad sequences...\n"
     ]
    }
   ],
   "source": [
    "print('Pad sequences...')\n",
    "data = pad_sequences(sequences, maxlen=MAX_SEQUENCE_LENGTH)\n"
   ]
  },
  {
   "cell_type": "code",
   "execution_count": 34,
   "metadata": {},
   "outputs": [
    {
     "name": "stdout",
     "output_type": "stream",
     "text": [
      "data[0] [   0    0    0    0    0    0    0    0    0    0    0    0    0    0\n",
      "    0    0    0    0    0    0    0    0    0    0    0    0    0    0\n",
      "    0    0    0    0    0    0    0    0    0    0    0    0    0    0\n",
      "    0    0    0    0    0    0    0    0    0    0    0    0    0    0\n",
      "    0    0    0    0    0    0    0    0    0    0    0    0    0    0\n",
      "    0    0    0    0    0    0    0    0    0    0    0    0    0    0\n",
      "    0    0    0    0    0    0    0    0    0    0    0    0    0    0\n",
      "    0    0    0    0    0    0    0    0    0    0    0    0    0    0\n",
      "    0    0    0    0    0    0    0    0    0    0    0    0    0    0\n",
      "    0    0    0    0    0    0    0    0    0    0    0    0    0    0\n",
      "    0    0    0    0    0    0    0    0    0    0    0    0    0    0\n",
      "    0    0    0    0    0    0    0    0    0    0    0    0    0    0\n",
      "    0    0    0    0    0    0    0    0    0    0    0    0    0    0\n",
      "    0    0    0    0    0    0    0    0    0    0    0    0    0    0\n",
      " 1080    9 7501  242]\n",
      "Shape of data tensor: (58463, 200)\n"
     ]
    }
   ],
   "source": [
    "print(\"data[0]\", data[0])\n",
    "print('Shape of data tensor:', data.shape)"
   ]
  },
  {
   "cell_type": "markdown",
   "metadata": {},
   "source": [
    "prepare embedding matrix"
   ]
  },
  {
   "cell_type": "code",
   "execution_count": 35,
   "metadata": {},
   "outputs": [
    {
     "name": "stdout",
     "output_type": "stream",
     "text": [
      "Filling pre-trained embeddings...\n",
      "len word2idx 29750\n"
     ]
    }
   ],
   "source": [
    "print('Filling pre-trained embeddings...')\n",
    "print(\"len word2idx\", len(word2idx))\n",
    "num_words = min(MAX_VOCAB_SIZE, len(word2idx) + 1)\n",
    "embedding_matrix = np.zeros((num_words, EMBEDDING_DIM))\n",
    "for word, i in word2idx.items():\n",
    "  if i < MAX_VOCAB_SIZE:\n",
    "    embedding_vector = word2vec.get(word)\n",
    "    if embedding_vector is not None:\n",
    "      # words not found in embedding index will be all zeros.\n",
    "      embedding_matrix[i] = embedding_vector\n"
   ]
  },
  {
   "cell_type": "code",
   "execution_count": 36,
   "metadata": {},
   "outputs": [
    {
     "name": "stdout",
     "output_type": "stream",
     "text": [
      "embedding_matrix shape: (29751, 100)\n",
      "1080\n",
      "embedding_matrix[1113] [ 0.062497   -0.67212999  0.20155001  0.094727    0.29690999  0.32301\n",
      " -0.21544001 -0.10883     0.35653999  0.0769     -0.29014999 -0.28364\n",
      "  0.45517999 -0.17453     0.23957001 -0.49955001  0.26804999  0.48311001\n",
      " -0.71631998  0.16308001  0.85055     0.40685001 -0.21877    -0.89292002\n",
      " -0.037749    0.13072    -0.005088   -0.45372999 -0.58617997 -0.13279\n",
      "  0.06173     0.56757998 -0.031886   -0.1569      0.30113     0.089954\n",
      "  0.40274999  0.17216     0.22866    -1.33809996  1.16110003 -0.63685\n",
      "  0.088577   -0.50928003 -0.30388999  0.27311     0.29042    -0.084582\n",
      "  0.15349001  0.07679     0.52596998 -0.22392    -0.58911997  0.39482999\n",
      "  0.16959    -0.57401001 -0.058901   -0.22863001  1.29400003 -0.24248999\n",
      " -0.29561999 -0.78558999  0.46970999  0.34156999  0.14144     0.16636001\n",
      "  0.21919    -0.66413999  0.63117999 -0.045638   -0.72386003  0.078425\n",
      "  0.45379999 -0.24975     0.38626     1.21179998  0.50875998 -0.63848001\n",
      " -0.36969     0.026695   -0.0043687  -0.54615998  0.16564     0.2385\n",
      " -0.92281997  0.029986   -0.27048001 -0.14681    -0.41536999 -0.49246001\n",
      "  0.30239999  0.57195997  0.28617001 -0.85267001 -1.00349998 -0.27846\n",
      "  0.54356003 -0.26271001  0.86025     0.77113003]\n"
     ]
    }
   ],
   "source": [
    "print(\"embedding_matrix shape:\", embedding_matrix.shape)\n",
    "print(word2idx.get(\"creating\"))\n",
    "print(\"embedding_matrix[1113]\", embedding_matrix[1113])"
   ]
  },
  {
   "cell_type": "markdown",
   "metadata": {},
   "source": [
    "load pre-trained word embeddings into an Embedding layer <br/>\n",
    "note that we set trainable = False so as to keep the embeddings fixed"
   ]
  },
  {
   "cell_type": "code",
   "execution_count": 37,
   "metadata": {},
   "outputs": [
    {
     "name": "stdout",
     "output_type": "stream",
     "text": [
      "Building Embedding layer ...\n"
     ]
    }
   ],
   "source": [
    "print('Building Embedding layer ...')\n",
    "embedding_layer = Embedding(\n",
    "  num_words,\n",
    "  EMBEDDING_DIM,\n",
    "  weights=[embedding_matrix],\n",
    "  input_length=MAX_SEQUENCE_LENGTH,\n",
    "  trainable=False\n",
    ")"
   ]
  },
  {
   "cell_type": "markdown",
   "metadata": {},
   "source": [
    "Building model..."
   ]
  },
  {
   "cell_type": "code",
   "execution_count": 38,
   "metadata": {},
   "outputs": [],
   "source": [
    "input_ = Input(shape=(MAX_SEQUENCE_LENGTH,))\n",
    "x = embedding_layer(input_)\n",
    "x = Dense(256, activation='relu')(x)\n",
    "x = Conv1D(128, 3, activation='relu')(x)\n",
    "x = MaxPooling1D(3)(x)\n",
    "x = Dropout(0.2)(x)\n",
    "x = Conv1D(128, 3, activation='relu')(x)\n",
    "x = MaxPooling1D(3)(x)\n",
    "x = Conv1D(128, 3, activation='relu')(x)\n",
    "x = GlobalMaxPooling1D()(x)\n",
    "x = Dropout(0.2)(x)\n",
    "x = Dense(128, activation='relu')(x)\n",
    "output = Dense(28, activation='sigmoid')(x)\n",
    "#this takes waay too much time\n",
    "model = Model(input_, output)"
   ]
  },
  {
   "cell_type": "code",
   "execution_count": 39,
   "metadata": {},
   "outputs": [],
   "source": [
    "model.compile(\n",
    "   loss='binary_crossentropy',\n",
    "   optimizer='adam',\n",
    "   metrics=['accuracy']\n",
    ")"
   ]
  },
  {
   "cell_type": "code",
   "execution_count": 40,
   "metadata": {},
   "outputs": [
    {
     "name": "stdout",
     "output_type": "stream",
     "text": [
      "Training model...\n",
      "Epoch 1/6\n",
      "731/731 [==============================] - 168s 230ms/step - loss: 0.1153 - accuracy: 0.0749 - val_loss: 0.1006 - val_accuracy: 0.0453\n",
      "Epoch 2/6\n",
      "731/731 [==============================] - 164s 224ms/step - loss: 0.1043 - accuracy: 0.0718 - val_loss: 0.1022 - val_accuracy: 0.0644\n",
      "Epoch 3/6\n",
      "731/731 [==============================] - 165s 226ms/step - loss: 0.1030 - accuracy: 0.0708 - val_loss: 0.0999 - val_accuracy: 0.0660\n",
      "Epoch 4/6\n",
      "731/731 [==============================] - 166s 226ms/step - loss: 0.1022 - accuracy: 0.0755 - val_loss: 0.0996 - val_accuracy: 0.0652\n",
      "Epoch 5/6\n",
      "731/731 [==============================] - 166s 227ms/step - loss: 0.1015 - accuracy: 0.0775 - val_loss: 0.0981 - val_accuracy: 0.0654\n",
      "Epoch 6/6\n",
      "731/731 [==============================] - 164s 224ms/step - loss: 0.1009 - accuracy: 0.0797 - val_loss: 0.0983 - val_accuracy: 0.0371\n"
     ]
    }
   ],
   "source": [
    "print('Training model...')\n",
    "r = model.fit(\n",
    "  data,\n",
    "  targets,\n",
    "  batch_size=BATCH_SIZE,\n",
    "  epochs=EPOCHS,\n",
    "  validation_split=VALIDATION_SPLIT\n",
    ")"
   ]
  },
  {
   "cell_type": "markdown",
   "metadata": {},
   "source": [
    "plot some data"
   ]
  },
  {
   "cell_type": "code",
   "execution_count": 41,
   "metadata": {},
   "outputs": [],
   "source": [
    "%matplotlib inline"
   ]
  },
  {
   "cell_type": "code",
   "execution_count": 42,
   "metadata": {},
   "outputs": [
    {
     "data": {
      "image/png": "[encoded data removed]",
      "text/plain": [
       "<Figure size 432x288 with 1 Axes>"
      ]
     },
     "metadata": {
      "needs_background": "light"
     },
     "output_type": "display_data"
    },
    {
     "data": {
      "image/png": "[encoded data removed]",
      "text/plain": [
       "<Figure size 432x288 with 1 Axes>"
      ]
     },
     "metadata": {
      "needs_background": "light"
     },
     "output_type": "display_data"
    }
   ],
   "source": [
    "plt.plot(r.history['loss'], label='loss')\n",
    "plt.plot(r.history['val_loss'], label='val_loss')\n",
    "plt.legend()\n",
    "plt.show()\n",
    "\n",
    "\n",
    "plt.plot(r.history['accuracy'], label='acc')\n",
    "plt.plot(r.history['val_accuracy'], label='val_acc')\n",
    "plt.legend()\n",
    "plt.show()\n"
   ]
  },
  {
   "cell_type": "code",
   "execution_count": 44,
   "metadata": {},
   "outputs": [
    {
     "name": "stdout",
     "output_type": "stream",
     "text": [
      "0.7408147426240701\n",
      "this sucks\n"
     ]
    }
   ],
   "source": [
    "p = model.predict(data)\n",
    "aucs = []\n",
    "for j in range(6):\n",
    "    auc = roc_auc_score(targets[:,j], p[:,j])\n",
    "    aucs.append(auc)\n",
    "print(np.mean(aucs))\n",
    "print(\"this sucks\")"
   ]
  }
 ],
 "metadata": {
  "kernelspec": {
   "display_name": "Python 3",
   "language": "python",
   "name": "python3"
  },
  "language_info": {
   "codemirror_mode": {
    "name": "ipython",
    "version": 3
   },
   "file_extension": ".py",
   "mimetype": "text/x-python",
   "name": "python",
   "nbconvert_exporter": "python",
   "pygments_lexer": "ipython3",
   "version": "3.8.3"
  }
 },
 "nbformat": 4,
 "nbformat_minor": 4
}
