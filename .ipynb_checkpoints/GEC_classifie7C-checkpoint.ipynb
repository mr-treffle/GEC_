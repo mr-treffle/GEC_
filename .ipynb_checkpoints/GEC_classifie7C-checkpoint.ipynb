{
 "cells": [
  {
   "cell_type": "markdown",
   "metadata": {},
   "source": [
    "imports"
   ]
  },
  {
   "cell_type": "code",
   "execution_count": 1,
   "metadata": {},
   "outputs": [],
   "source": [
    "from __future__ import print_function, division\n",
    "from builtins import range\n",
    "\n",
    "import os\n",
    "import sys,re\n",
    "import numpy as np\n",
    "import matplotlib.pyplot as plt\n",
    "from tensorflow.keras.preprocessing.sequence import pad_sequences\n",
    "from tensorflow.keras.preprocessing.text import Tokenizer\n",
    "from tensorflow.keras import Input, Model\n",
    "from tensorflow.keras.layers import Dense, GlobalMaxPool1D, Bidirectional, Conv1D\n",
    "from tensorflow.keras.layers import LSTM, MaxPooling1D, Embedding, Dropout, GlobalMaxPooling1D\n",
    "from tensorflow.keras.optimizers import Adam\n",
    "import tensorflow.keras.backend as K\n",
    "from sklearn.metrics import roc_auc_score"
   ]
  },
  {
   "cell_type": "markdown",
   "metadata": {},
   "source": [
    "some configuration"
   ]
  },
  {
   "cell_type": "code",
   "execution_count": 2,
   "metadata": {},
   "outputs": [],
   "source": [
    "MAX_SEQUENCE_LENGTH = 100\n",
    "MAX_VOCAB_SIZE = 20000\n",
    "EMBEDDING_DIM = 50\n",
    "VALIDATION_SPLIT = 0.2\n",
    "BATCH_SIZE = 64\n",
    "EPOCHS = 10"
   ]
  },
  {
   "cell_type": "markdown",
   "metadata": {},
   "source": [
    "load in pre-trained word vectors"
   ]
  },
  {
   "cell_type": "code",
   "execution_count": 3,
   "metadata": {},
   "outputs": [],
   "source": [
    "word2vec = {}\n",
    "with open(os.path.join('/home/hassan/Documents/machine_learning_examples/nlp_class3/glove.6B.%sd.txt' % EMBEDDING_DIM)) as f:\n",
    "  # is just a space-separated text file in the format:\n",
    "  # word vec[0] vec[1] vec[2] ...\n",
    "  for line in f:\n",
    "    values = line.split()\n",
    "    word = values[0]\n",
    "    vec = np.asarray(values[1:], dtype='float32')\n",
    "    word2vec[word] = vec\n"
   ]
  },
  {
   "cell_type": "code",
   "execution_count": 4,
   "metadata": {},
   "outputs": [
    {
     "name": "stdout",
     "output_type": "stream",
     "text": [
      "Found 400000 word vectors.\n"
     ]
    }
   ],
   "source": [
    "print('Found %s word vectors.' % len(word2vec))"
   ]
  },
  {
   "cell_type": "markdown",
   "metadata": {},
   "source": [
    "prepare text samples and their labels"
   ]
  },
  {
   "cell_type": "code",
   "execution_count": 8,
   "metadata": {},
   "outputs": [],
   "source": [
    "sentences = np.empty(0,dtype='object')\n",
    "targets = np.zeros((0,7))\n",
    "labels = { \"ArtOrDet\":0, \"Nn\":1, \"Vt\":2, \"Prep\":3, \"Vform\":4, \"Wform\":5, \"SVA\":6}\n",
    "i=0\n",
    "f=open('/home/hassan/Documents/machine_learning_examples/nlp_class3/toxic/conll14st-preprocessed.m2')\n",
    "line = f.readline()\n",
    "while line:\n",
    "    line = line.strip()\n",
    "    if line:\n",
    "        # print(line)\n",
    "        if re.search(\"^S\",line):\n",
    "            a=np.empty(1,dtype='object')\n",
    "            a[0]=line[2:]\n",
    "            sentences=np.concatenate([sentences,a])\n",
    "            b=np.zeros((1,7))\n",
    "            targets=np.concatenate([targets,b])\n",
    "            i=i+1\n",
    "        elif re.search(\"^A\",line):\n",
    "            # print(\"found annotation\")\n",
    "            for key in labels:\n",
    "                # print(labels.get(key))\n",
    "                if re.search(key,line):\n",
    "                    # print(labels.get(key))\n",
    "                    targets[i-1,labels.get(key)]=1\n",
    "                    break\n",
    "    line=f.readline()\n",
    "\n"
   ]
  },
  {
   "cell_type": "code",
   "execution_count": 30,
   "metadata": {},
   "outputs": [
    {
     "name": "stdout",
     "output_type": "stream",
     "text": [
      "[0. 1. 0. 0. 1. 0. 1.]\n",
      "[0. 1. 0. 0. 0. 0. 0.]\n",
      "(57151, 7)\n",
      "found line 28601\n"
     ]
    }
   ],
   "source": [
    "print(targets[3])\n",
    "print(targets[5])\n",
    "print(targets.shape)\n",
    "print(\"found line\", i)"
   ]
  },
  {
   "cell_type": "markdown",
   "metadata": {},
   "source": [
    "convert the sentences (strings) into integers"
   ]
  },
  {
   "cell_type": "code",
   "execution_count": 10,
   "metadata": {},
   "outputs": [
    {
     "name": "stdout",
     "output_type": "stream",
     "text": [
      "Tokenization...\n"
     ]
    }
   ],
   "source": [
    "print('Tokenization...')\n",
    "tokenizer = Tokenizer( num_words=MAX_VOCAB_SIZE, filters='!\"#$%&*+-/<=>?@[\\\\]^_`{|}~\\t\\n')\n",
    "tokenizer.fit_on_texts(sentences)\n",
    "sequences = tokenizer.texts_to_sequences(sentences)\n",
    "\n",
    "word2idx = tokenizer.word_index"
   ]
  },
  {
   "cell_type": "code",
   "execution_count": 12,
   "metadata": {},
   "outputs": [
    {
     "name": "stdout",
     "output_type": "stream",
     "text": [
      "sequence[0]:  [1087, 9, 7713, 226]\n",
      "max sequence length: 130\n",
      "min sequence length: 0\n",
      "Found 28601 unique tokens.\n"
     ]
    }
   ],
   "source": [
    "print(\"sequence[0]: \", sequences[0])\n",
    "\n",
    "print(\"max sequence length:\", max(len(s) for s in sequences))\n",
    "print(\"min sequence length:\", min(len(s) for s in sequences))\n",
    "# s = sorted(len(s) for s in sequences)\n",
    "# print(\"median sequence length:\", s[len(s) // 2])\n",
    "#\n",
    "# print(\"max word index:\", max(max(seq) for seq in sequences if len(seq) > 0))\n",
    "\n",
    "print('Found %s unique tokens.' % len(word2idx))\n",
    "# print(next(iter(word2idx)))"
   ]
  },
  {
   "cell_type": "markdown",
   "metadata": {},
   "source": [
    "pad sequences so that we get a N x T matrix"
   ]
  },
  {
   "cell_type": "code",
   "execution_count": 13,
   "metadata": {},
   "outputs": [
    {
     "name": "stdout",
     "output_type": "stream",
     "text": [
      "Pad sequences...\n"
     ]
    }
   ],
   "source": [
    "print('Pad sequences...')\n",
    "data = pad_sequences(sequences, maxlen=MAX_SEQUENCE_LENGTH)\n"
   ]
  },
  {
   "cell_type": "code",
   "execution_count": 15,
   "metadata": {},
   "outputs": [
    {
     "name": "stdout",
     "output_type": "stream",
     "text": [
      "data[0] [   0    0    0    0    0    0    0    0    0    0    0    0    0    0\n",
      "    0    0    0    0    0    0    0    0    0    0    0    0    0    0\n",
      "    0    0    0    0    0    0    0    0    0    0    0    0    0    0\n",
      "    0    0    0    0    0    0    0    0    0    0    0    0    0    0\n",
      "    0    0    0    0    0    0    0    0    0    0    0    0    0    0\n",
      "    0    0    0    0    0    0    0    0    0    0    0    0    0    0\n",
      "    0    0    0    0    0    0    0    0    0    0    0    0 1087    9\n",
      " 7713  226]\n",
      "Shape of data tensor: (57151, 100)\n"
     ]
    }
   ],
   "source": [
    "print(\"data[0]\", data[0])\n",
    "print('Shape of data tensor:', data.shape)"
   ]
  },
  {
   "cell_type": "markdown",
   "metadata": {},
   "source": [
    "prepare embedding matrix"
   ]
  },
  {
   "cell_type": "code",
   "execution_count": 16,
   "metadata": {},
   "outputs": [
    {
     "name": "stdout",
     "output_type": "stream",
     "text": [
      "Filling pre-trained embeddings...\n",
      "len word2idx 28601\n"
     ]
    }
   ],
   "source": [
    "print('Filling pre-trained embeddings...')\n",
    "print(\"len word2idx\", len(word2idx))\n",
    "num_words = min(MAX_VOCAB_SIZE, len(word2idx) + 1)\n",
    "embedding_matrix = np.zeros((num_words, EMBEDDING_DIM))\n",
    "for word, i in word2idx.items():\n",
    "  if i < MAX_VOCAB_SIZE:\n",
    "    embedding_vector = word2vec.get(word)\n",
    "    if embedding_vector is not None:\n",
    "      # words not found in embedding index will be all zeros.\n",
    "      embedding_matrix[i] = embedding_vector\n"
   ]
  },
  {
   "cell_type": "code",
   "execution_count": 18,
   "metadata": {},
   "outputs": [
    {
     "name": "stdout",
     "output_type": "stream",
     "text": [
      "embedding_matrix shape: (20000, 50)\n",
      "1087\n",
      "embedding_matrix[1113] [ 0.49699    -0.38646999  0.53082001 -0.091778   -0.11738    -0.04102\n",
      " -0.50743997 -0.06322    -0.42208001  0.074554   -0.19433001 -0.036245\n",
      " -0.58236998  0.38620001  0.14978001  0.1804     -0.099115   -0.59814\n",
      "  0.28531    -0.11149     0.13049001 -0.38992     0.030325   -0.42905\n",
      " -0.22137    -1.41120005  0.094014   -0.34946999  0.010534    0.070527\n",
      "  2.24099994  0.45576999 -1.39999998 -0.55597001 -0.29089999 -0.34981\n",
      "  0.16367     0.50111997 -0.32163    -0.64955002 -0.53886998 -0.30575001\n",
      " -0.27078    -0.38091001 -0.37178999  0.13150001 -0.44901001  0.051905\n",
      "  0.31749001  0.11395   ]\n"
     ]
    }
   ],
   "source": [
    "print(\"embedding_matrix shape:\", embedding_matrix.shape)\n",
    "print(word2idx.get(\"creating\"))\n",
    "print(\"embedding_matrix[1113]\", embedding_matrix[1113])"
   ]
  },
  {
   "cell_type": "markdown",
   "metadata": {},
   "source": [
    "load pre-trained word embeddings into an Embedding layer <br/>\n",
    "note that we set trainable = False so as to keep the embeddings fixed"
   ]
  },
  {
   "cell_type": "code",
   "execution_count": 23,
   "metadata": {},
   "outputs": [
    {
     "name": "stdout",
     "output_type": "stream",
     "text": [
      "Building Embedding layer ...\n"
     ]
    }
   ],
   "source": [
    "print('Building Embedding layer ...')\n",
    "embedding_layer = Embedding(\n",
    "  num_words,\n",
    "  EMBEDDING_DIM,\n",
    "  weights=[embedding_matrix],\n",
    "  input_length=MAX_SEQUENCE_LENGTH,\n",
    "  trainable=False\n",
    ")"
   ]
  },
  {
   "cell_type": "markdown",
   "metadata": {},
   "source": [
    "Building model..."
   ]
  },
  {
   "cell_type": "code",
   "execution_count": 24,
   "metadata": {},
   "outputs": [],
   "source": [
    "input_ = Input(shape=(MAX_SEQUENCE_LENGTH,))\n",
    "x = embedding_layer(input_)\n",
    "x = Conv1D(128, 3, activation='relu')(x)\n",
    "x = MaxPooling1D(3)(x)\n",
    "x = Conv1D(128, 3, activation='relu')(x)\n",
    "x = MaxPooling1D(3)(x)\n",
    "x = Conv1D(128, 3, activation='relu')(x)\n",
    "x = GlobalMaxPooling1D()(x)\n",
    "x = Dense(128, activation='relu')(x)\n",
    "output = Dense(7, activation='sigmoid')(x)\n",
    "\n",
    "model = Model(input_, output)"
   ]
  },
  {
   "cell_type": "code",
   "execution_count": 25,
   "metadata": {},
   "outputs": [],
   "source": [
    "model.compile(\n",
    "   loss='binary_crossentropy',\n",
    "   optimizer='adam',\n",
    "   metrics=['accuracy']\n",
    ")"
   ]
  },
  {
   "cell_type": "code",
   "execution_count": 26,
   "metadata": {},
   "outputs": [
    {
     "name": "stdout",
     "output_type": "stream",
     "text": [
      "Training model...\n",
      "Epoch 1/10\n",
      "715/715 [==============================] - 37s 52ms/step - loss: 0.1904 - accuracy: 0.7890 - val_loss: 0.1277 - val_accuracy: 0.8906\n",
      "Epoch 2/10\n",
      "715/715 [==============================] - 35s 49ms/step - loss: 0.1808 - accuracy: 0.7932 - val_loss: 0.1268 - val_accuracy: 0.7599\n",
      "Epoch 3/10\n",
      "715/715 [==============================] - 26s 37ms/step - loss: 0.1783 - accuracy: 0.7396 - val_loss: 0.1249 - val_accuracy: 0.8714\n",
      "Epoch 4/10\n",
      "715/715 [==============================] - 25s 35ms/step - loss: 0.1754 - accuracy: 0.7168 - val_loss: 0.1312 - val_accuracy: 0.4797\n",
      "Epoch 5/10\n",
      "715/715 [==============================] - 27s 38ms/step - loss: 0.1711 - accuracy: 0.6633 - val_loss: 0.1252 - val_accuracy: 0.7424\n",
      "Epoch 6/10\n",
      "715/715 [==============================] - 30s 42ms/step - loss: 0.1651 - accuracy: 0.6282 - val_loss: 0.1280 - val_accuracy: 0.4830\n",
      "Epoch 7/10\n",
      "715/715 [==============================] - 28s 39ms/step - loss: 0.1584 - accuracy: 0.5992 - val_loss: 0.1339 - val_accuracy: 0.5667\n",
      "Epoch 8/10\n",
      "715/715 [==============================] - 29s 40ms/step - loss: 0.1507 - accuracy: 0.5728 - val_loss: 0.1378 - val_accuracy: 0.5157\n",
      "Epoch 9/10\n",
      "715/715 [==============================] - 31s 43ms/step - loss: 0.1426 - accuracy: 0.5774 - val_loss: 0.1399 - val_accuracy: 0.5860\n",
      "Epoch 10/10\n",
      "715/715 [==============================] - 29s 40ms/step - loss: 0.1339 - accuracy: 0.5432 - val_loss: 0.1525 - val_accuracy: 0.5043\n"
     ]
    }
   ],
   "source": [
    "print('Training model...')\n",
    "r = model.fit(\n",
    "  data,\n",
    "  targets,\n",
    "  batch_size=BATCH_SIZE,\n",
    "  epochs=EPOCHS,\n",
    "  validation_split=VALIDATION_SPLIT\n",
    ")"
   ]
  },
  {
   "cell_type": "markdown",
   "metadata": {},
   "source": [
    "plot some data"
   ]
  },
  {
   "cell_type": "code",
   "execution_count": 27,
   "metadata": {},
   "outputs": [],
   "source": [
    "%matplotlib inline"
   ]
  },
  {
   "cell_type": "code",
   "execution_count": 28,
   "metadata": {},
   "outputs": [
    {
     "data": {
      "image/png": "[encoded data removed]",
      "text/plain": [
       "<Figure size 432x288 with 1 Axes>"
      ]
     },
     "metadata": {
      "needs_background": "light"
     },
     "output_type": "display_data"
    },
    {
     "data": {
      "image/png": "[encoded data removed]",
      "text/plain": [
       "<Figure size 432x288 with 1 Axes>"
      ]
     },
     "metadata": {
      "needs_background": "light"
     },
     "output_type": "display_data"
    }
   ],
   "source": [
    "plt.plot(r.history['loss'], label='loss')\n",
    "plt.plot(r.history['val_loss'], label='val_loss')\n",
    "plt.legend()\n",
    "plt.show()\n",
    "\n",
    "\n",
    "plt.plot(r.history['accuracy'], label='acc')\n",
    "plt.plot(r.history['val_accuracy'], label='val_acc')\n",
    "plt.legend()\n",
    "plt.show()\n"
   ]
  },
  {
   "cell_type": "code",
   "execution_count": 29,
   "metadata": {},
   "outputs": [
    {
     "name": "stdout",
     "output_type": "stream",
     "text": [
      "0.8902541397342842\n"
     ]
    }
   ],
   "source": [
    "p = model.predict(data)\n",
    "aucs = []\n",
    "for j in range(6):\n",
    "    auc = roc_auc_score(targets[:,j], p[:,j])\n",
    "    aucs.append(auc)\n",
    "print(np.mean(aucs))"
   ]
  }
 ],
 "metadata": {
  "kernelspec": {
   "display_name": "Python 3",
   "language": "python",
   "name": "python3"
  },
  "language_info": {
   "codemirror_mode": {
    "name": "ipython",
    "version": 3
   },
   "file_extension": ".py",
   "mimetype": "text/x-python",
   "name": "python",
   "nbconvert_exporter": "python",
   "pygments_lexer": "ipython3",
   "version": "3.8.3"
  }
 },
 "nbformat": 4,
 "nbformat_minor": 4
}
